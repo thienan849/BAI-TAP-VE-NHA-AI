{
  "nbformat": 4,
  "nbformat_minor": 0,
  "metadata": {
    "colab": {
      "name": "baitapcifar100.ipynb",
      "provenance": [],
      "collapsed_sections": []
    },
    "kernelspec": {
      "name": "python3",
      "display_name": "Python 3"
    },
    "language_info": {
      "name": "python"
    }
  },
  "cells": [
    {
      "cell_type": "code",
      "execution_count": null,
      "metadata": {
        "id": "MA_ib7LA9cSB"
      },
      "outputs": [],
      "source": [
        "#import thư viện\n",
        "import numpy as np #thư viện xử lý ma trận\n",
        "from keras.utils import np_utils # thư viện xử lý chuyển class\n",
        "from keras.datasets import cifar100 # gọi tập dataset động vật, máy bay \n",
        "from keras.models import Sequential # hàm chạy mô hình\n",
        "from keras.layers import Dense, Dropout # tạo mạng nơ ron\n",
        "from tensorflow.keras.optimizers import RMSprop \n",
        "import matplotlib.pyplot as plt  # thư viện dùng để vẽ\n",
        "from keras.backend import dropout"
      ]
    },
    {
      "cell_type": "code",
      "source": [
        "(x_train,y_train),(x_test,y_test) = cifar100.load_data()"
      ],
      "metadata": {
        "id": "EeUug2029msQ"
      },
      "execution_count": null,
      "outputs": []
    },
    {
      "cell_type": "code",
      "source": [
        "x_train = x_train.reshape(50000,3072)\n",
        "x_test = x_test.reshape(10000,3072)\n",
        "# ép kiểu\n",
        "x_train = x_train.astype('float32')\n",
        "x_test = x_test.astype('float32')\n",
        "#chuẩn hóa dữ liệu\n",
        "x_train /=255\n",
        "x_test /=255\n",
        "#chuyển y từ 1 class thành 10 class\n",
        "y_train = np_utils.to_categorical(y_train,100)\n",
        "y_test = np_utils.to_categorical(y_test,100)"
      ],
      "metadata": {
        "id": "i_Cxlqir9uQa"
      },
      "execution_count": null,
      "outputs": []
    },
    {
      "cell_type": "code",
      "source": [
        "model = Sequential()\n",
        "model.add(Dense(512,activation='relu',input_shape=(3072,)))\n",
        "model.add(Dropout(0.2))\n",
        "model.add(Dense(1000,activation='relu'))\n",
        "model.add(Dropout(0.2))\n",
        "model.add(Dense(1000,activation='relu'))\n",
        "model.add(Dropout(0.2))\n",
        "model.add(Dense(512,activation='relu'))\n",
        "model.add(Dropout(0.2))\n",
        "model.add(Dense(100,activation='softmax'))\n",
        "model.summary()"
      ],
      "metadata": {
        "colab": {
          "base_uri": "https://localhost:8080/"
        },
        "id": "snhgreb492_S",
        "outputId": "c08b8686-cb1d-45ec-f7ae-8cea3ea6990a"
      },
      "execution_count": null,
      "outputs": [
        {
          "output_type": "stream",
          "name": "stdout",
          "text": [
            "Model: \"sequential_4\"\n",
            "_________________________________________________________________\n",
            " Layer (type)                Output Shape              Param #   \n",
            "=================================================================\n",
            " dense_16 (Dense)            (None, 512)               1573376   \n",
            "                                                                 \n",
            " dropout_8 (Dropout)         (None, 512)               0         \n",
            "                                                                 \n",
            " dense_17 (Dense)            (None, 1000)              513000    \n",
            "                                                                 \n",
            " dropout_9 (Dropout)         (None, 1000)              0         \n",
            "                                                                 \n",
            " dense_18 (Dense)            (None, 1000)              1001000   \n",
            "                                                                 \n",
            " dropout_10 (Dropout)        (None, 1000)              0         \n",
            "                                                                 \n",
            " dense_19 (Dense)            (None, 512)               512512    \n",
            "                                                                 \n",
            " dropout_11 (Dropout)        (None, 512)               0         \n",
            "                                                                 \n",
            " dense_20 (Dense)            (None, 100)               51300     \n",
            "                                                                 \n",
            "=================================================================\n",
            "Total params: 3,651,188\n",
            "Trainable params: 3,651,188\n",
            "Non-trainable params: 0\n",
            "_________________________________________________________________\n"
          ]
        }
      ]
    },
    {
      "cell_type": "code",
      "source": [
        "model.compile(loss='categorical_crossentropy',optimizer=RMSprop(), metrics=['accuracy'])\n",
        "history = model.fit(x_train,y_train,batch_size=128,epochs=100,verbose=1,validation_split=0.2,callbacks=[EarlyStopping(monitor='val_loss',patience=100)])"
      ],
      "metadata": {
        "colab": {
          "base_uri": "https://localhost:8080/"
        },
        "id": "Teo-CM_L98Tl",
        "outputId": "ca920788-8e53-4700-bb48-fc0ae65e32b6"
      },
      "execution_count": null,
      "outputs": [
        {
          "output_type": "stream",
          "name": "stdout",
          "text": [
            "Epoch 1/100\n",
            "313/313 [==============================] - 29s 91ms/step - loss: 4.4271 - accuracy: 0.0333 - val_loss: 4.1328 - val_accuracy: 0.0635\n",
            "Epoch 2/100\n",
            "313/313 [==============================] - 27s 88ms/step - loss: 4.1264 - accuracy: 0.0625 - val_loss: 4.0423 - val_accuracy: 0.0758\n",
            "Epoch 3/100\n",
            "313/313 [==============================] - 28s 88ms/step - loss: 3.9929 - accuracy: 0.0838 - val_loss: 3.8737 - val_accuracy: 0.1104\n",
            "Epoch 4/100\n",
            "313/313 [==============================] - 28s 89ms/step - loss: 3.8887 - accuracy: 0.0975 - val_loss: 3.7838 - val_accuracy: 0.1297\n",
            "Epoch 5/100\n",
            "313/313 [==============================] - 28s 90ms/step - loss: 3.8151 - accuracy: 0.1116 - val_loss: 3.7990 - val_accuracy: 0.1212\n",
            "Epoch 6/100\n",
            "313/313 [==============================] - 28s 88ms/step - loss: 3.7775 - accuracy: 0.1164 - val_loss: 3.7316 - val_accuracy: 0.1254\n",
            "Epoch 7/100\n",
            "313/313 [==============================] - 27s 87ms/step - loss: 3.7374 - accuracy: 0.1247 - val_loss: 3.6932 - val_accuracy: 0.1319\n",
            "Epoch 8/100\n",
            "313/313 [==============================] - 27s 88ms/step - loss: 3.7064 - accuracy: 0.1322 - val_loss: 3.6638 - val_accuracy: 0.1447\n",
            "Epoch 9/100\n",
            "313/313 [==============================] - 28s 88ms/step - loss: 3.6767 - accuracy: 0.1347 - val_loss: 3.6320 - val_accuracy: 0.1591\n",
            "Epoch 10/100\n",
            "313/313 [==============================] - 28s 89ms/step - loss: 3.6590 - accuracy: 0.1396 - val_loss: 3.7040 - val_accuracy: 0.1363\n",
            "Epoch 11/100\n",
            "313/313 [==============================] - 27s 88ms/step - loss: 3.6452 - accuracy: 0.1420 - val_loss: 3.6187 - val_accuracy: 0.1478\n",
            "Epoch 12/100\n",
            "313/313 [==============================] - 27s 88ms/step - loss: 3.6313 - accuracy: 0.1459 - val_loss: 3.7219 - val_accuracy: 0.1331\n",
            "Epoch 13/100\n",
            "313/313 [==============================] - 27s 88ms/step - loss: 3.6215 - accuracy: 0.1478 - val_loss: 3.7303 - val_accuracy: 0.1320\n",
            "Epoch 14/100\n",
            "313/313 [==============================] - 28s 89ms/step - loss: 3.6114 - accuracy: 0.1487 - val_loss: 3.6831 - val_accuracy: 0.1340\n",
            "Epoch 15/100\n",
            "313/313 [==============================] - 28s 89ms/step - loss: 3.6020 - accuracy: 0.1521 - val_loss: 3.5787 - val_accuracy: 0.1587\n",
            "Epoch 16/100\n",
            "313/313 [==============================] - 28s 89ms/step - loss: 3.5983 - accuracy: 0.1530 - val_loss: 3.5570 - val_accuracy: 0.1719\n",
            "Epoch 17/100\n",
            "313/313 [==============================] - 28s 89ms/step - loss: 3.5889 - accuracy: 0.1556 - val_loss: 3.5692 - val_accuracy: 0.1687\n",
            "Epoch 18/100\n",
            "313/313 [==============================] - 28s 89ms/step - loss: 3.5925 - accuracy: 0.1543 - val_loss: 3.6139 - val_accuracy: 0.1651\n",
            "Epoch 19/100\n",
            "313/313 [==============================] - 27s 88ms/step - loss: 3.5807 - accuracy: 0.1579 - val_loss: 3.6749 - val_accuracy: 0.1396\n",
            "Epoch 20/100\n",
            "313/313 [==============================] - 28s 88ms/step - loss: 3.5786 - accuracy: 0.1552 - val_loss: 3.5978 - val_accuracy: 0.1584\n",
            "Epoch 21/100\n",
            "313/313 [==============================] - 28s 88ms/step - loss: 3.5790 - accuracy: 0.1590 - val_loss: 3.5447 - val_accuracy: 0.1721\n",
            "Epoch 22/100\n",
            "313/313 [==============================] - 27s 88ms/step - loss: 3.5767 - accuracy: 0.1580 - val_loss: 3.5298 - val_accuracy: 0.1743\n",
            "Epoch 23/100\n",
            "313/313 [==============================] - 28s 88ms/step - loss: 3.5689 - accuracy: 0.1597 - val_loss: 3.5693 - val_accuracy: 0.1669\n",
            "Epoch 24/100\n",
            "313/313 [==============================] - 28s 89ms/step - loss: 3.5652 - accuracy: 0.1599 - val_loss: 3.6070 - val_accuracy: 0.1604\n",
            "Epoch 25/100\n",
            "313/313 [==============================] - 27s 87ms/step - loss: 3.5643 - accuracy: 0.1603 - val_loss: 3.6097 - val_accuracy: 0.1531\n",
            "Epoch 26/100\n",
            "313/313 [==============================] - 27s 87ms/step - loss: 3.5585 - accuracy: 0.1605 - val_loss: 3.6397 - val_accuracy: 0.1528\n",
            "Epoch 27/100\n",
            "313/313 [==============================] - 28s 90ms/step - loss: 3.5730 - accuracy: 0.1584 - val_loss: 3.5750 - val_accuracy: 0.1649\n",
            "Epoch 28/100\n",
            "313/313 [==============================] - 28s 90ms/step - loss: 3.5609 - accuracy: 0.1608 - val_loss: 3.5308 - val_accuracy: 0.1781\n",
            "Epoch 29/100\n",
            "313/313 [==============================] - 29s 93ms/step - loss: 3.5538 - accuracy: 0.1634 - val_loss: 3.5934 - val_accuracy: 0.1598\n",
            "Epoch 30/100\n",
            "313/313 [==============================] - 29s 91ms/step - loss: 3.5665 - accuracy: 0.1604 - val_loss: 3.4956 - val_accuracy: 0.1811\n",
            "Epoch 31/100\n",
            "313/313 [==============================] - 29s 91ms/step - loss: 3.5621 - accuracy: 0.1584 - val_loss: 3.5297 - val_accuracy: 0.1686\n",
            "Epoch 32/100\n",
            "313/313 [==============================] - 28s 90ms/step - loss: 3.5490 - accuracy: 0.1652 - val_loss: 3.5386 - val_accuracy: 0.1763\n",
            "Epoch 33/100\n",
            "313/313 [==============================] - 28s 90ms/step - loss: 3.5479 - accuracy: 0.1647 - val_loss: 3.5668 - val_accuracy: 0.1683\n",
            "Epoch 34/100\n",
            "313/313 [==============================] - 28s 89ms/step - loss: 3.5457 - accuracy: 0.1655 - val_loss: 3.5057 - val_accuracy: 0.1797\n",
            "Epoch 35/100\n",
            "313/313 [==============================] - 28s 89ms/step - loss: 3.5476 - accuracy: 0.1621 - val_loss: 3.5594 - val_accuracy: 0.1740\n",
            "Epoch 36/100\n",
            "313/313 [==============================] - 28s 88ms/step - loss: 3.5442 - accuracy: 0.1654 - val_loss: 3.6019 - val_accuracy: 0.1623\n",
            "Epoch 37/100\n",
            "313/313 [==============================] - 28s 90ms/step - loss: 3.5489 - accuracy: 0.1644 - val_loss: 3.5468 - val_accuracy: 0.1658\n",
            "Epoch 38/100\n",
            "313/313 [==============================] - 28s 90ms/step - loss: 3.5405 - accuracy: 0.1629 - val_loss: 3.5160 - val_accuracy: 0.1756\n",
            "Epoch 39/100\n",
            "313/313 [==============================] - 28s 90ms/step - loss: 3.5524 - accuracy: 0.1653 - val_loss: 3.5042 - val_accuracy: 0.1731\n",
            "Epoch 40/100\n",
            "313/313 [==============================] - 28s 90ms/step - loss: 3.5521 - accuracy: 0.1651 - val_loss: 3.4871 - val_accuracy: 0.1790\n",
            "Epoch 41/100\n",
            "313/313 [==============================] - 28s 89ms/step - loss: 3.5347 - accuracy: 0.1682 - val_loss: 3.5851 - val_accuracy: 0.1652\n",
            "Epoch 42/100\n",
            "313/313 [==============================] - 28s 88ms/step - loss: 3.5351 - accuracy: 0.1667 - val_loss: 3.5660 - val_accuracy: 0.1622\n",
            "Epoch 43/100\n",
            "313/313 [==============================] - 28s 89ms/step - loss: 3.5385 - accuracy: 0.1658 - val_loss: 3.4759 - val_accuracy: 0.1879\n",
            "Epoch 44/100\n",
            "313/313 [==============================] - 28s 90ms/step - loss: 3.5371 - accuracy: 0.1682 - val_loss: 3.5044 - val_accuracy: 0.1799\n",
            "Epoch 45/100\n",
            "313/313 [==============================] - 28s 90ms/step - loss: 3.5349 - accuracy: 0.1675 - val_loss: 3.5543 - val_accuracy: 0.1719\n",
            "Epoch 46/100\n",
            "313/313 [==============================] - 28s 89ms/step - loss: 3.5276 - accuracy: 0.1674 - val_loss: 3.5108 - val_accuracy: 0.1800\n",
            "Epoch 47/100\n",
            "313/313 [==============================] - 29s 91ms/step - loss: 3.5315 - accuracy: 0.1648 - val_loss: 3.5507 - val_accuracy: 0.1660\n",
            "Epoch 48/100\n",
            "313/313 [==============================] - 28s 90ms/step - loss: 3.5412 - accuracy: 0.1665 - val_loss: 3.5513 - val_accuracy: 0.1746\n",
            "Epoch 49/100\n",
            "313/313 [==============================] - 28s 89ms/step - loss: 3.5356 - accuracy: 0.1693 - val_loss: 3.5306 - val_accuracy: 0.1777\n",
            "Epoch 50/100\n",
            "313/313 [==============================] - 28s 89ms/step - loss: 3.5276 - accuracy: 0.1690 - val_loss: 3.5056 - val_accuracy: 0.1823\n",
            "Epoch 51/100\n",
            "313/313 [==============================] - 28s 89ms/step - loss: 3.5347 - accuracy: 0.1655 - val_loss: 3.5052 - val_accuracy: 0.1768\n",
            "Epoch 52/100\n",
            "313/313 [==============================] - 28s 89ms/step - loss: 3.5304 - accuracy: 0.1669 - val_loss: 3.5563 - val_accuracy: 0.1675\n",
            "Epoch 53/100\n",
            "313/313 [==============================] - 28s 89ms/step - loss: 3.5296 - accuracy: 0.1706 - val_loss: 3.4554 - val_accuracy: 0.1905\n",
            "Epoch 54/100\n",
            "313/313 [==============================] - 28s 90ms/step - loss: 3.5301 - accuracy: 0.1687 - val_loss: 3.5959 - val_accuracy: 0.1652\n",
            "Epoch 55/100\n",
            "313/313 [==============================] - 29s 91ms/step - loss: 3.5357 - accuracy: 0.1683 - val_loss: 3.5184 - val_accuracy: 0.1807\n",
            "Epoch 56/100\n",
            "313/313 [==============================] - 28s 89ms/step - loss: 3.5203 - accuracy: 0.1691 - val_loss: 3.5477 - val_accuracy: 0.1653\n",
            "Epoch 57/100\n",
            "313/313 [==============================] - 28s 91ms/step - loss: 3.5246 - accuracy: 0.1688 - val_loss: 3.4956 - val_accuracy: 0.1801\n",
            "Epoch 58/100\n",
            "313/313 [==============================] - 28s 91ms/step - loss: 3.5353 - accuracy: 0.1696 - val_loss: 3.4989 - val_accuracy: 0.1763\n",
            "Epoch 59/100\n",
            "313/313 [==============================] - 36s 115ms/step - loss: 3.5313 - accuracy: 0.1684 - val_loss: 3.5800 - val_accuracy: 0.1718\n",
            "Epoch 60/100\n",
            "313/313 [==============================] - 28s 90ms/step - loss: 3.5223 - accuracy: 0.1702 - val_loss: 3.4941 - val_accuracy: 0.1848\n",
            "Epoch 61/100\n",
            "313/313 [==============================] - 28s 90ms/step - loss: 3.5289 - accuracy: 0.1678 - val_loss: 3.4942 - val_accuracy: 0.1796\n",
            "Epoch 62/100\n",
            "313/313 [==============================] - 29s 94ms/step - loss: 3.5232 - accuracy: 0.1709 - val_loss: 3.4928 - val_accuracy: 0.1849\n",
            "Epoch 63/100\n",
            "313/313 [==============================] - 28s 89ms/step - loss: 3.5261 - accuracy: 0.1712 - val_loss: 3.5104 - val_accuracy: 0.1808\n",
            "Epoch 64/100\n",
            "313/313 [==============================] - 29s 91ms/step - loss: 3.5215 - accuracy: 0.1696 - val_loss: 3.4767 - val_accuracy: 0.1829\n",
            "Epoch 65/100\n",
            "313/313 [==============================] - 28s 91ms/step - loss: 3.5211 - accuracy: 0.1708 - val_loss: 3.6317 - val_accuracy: 0.1518\n",
            "Epoch 66/100\n",
            "313/313 [==============================] - 28s 90ms/step - loss: 3.5258 - accuracy: 0.1721 - val_loss: 3.5154 - val_accuracy: 0.1773\n",
            "Epoch 67/100\n",
            "313/313 [==============================] - 28s 89ms/step - loss: 3.5302 - accuracy: 0.1708 - val_loss: 3.5568 - val_accuracy: 0.1767\n",
            "Epoch 68/100\n",
            "313/313 [==============================] - 28s 90ms/step - loss: 3.5394 - accuracy: 0.1689 - val_loss: 3.5939 - val_accuracy: 0.1714\n",
            "Epoch 69/100\n",
            "313/313 [==============================] - 28s 90ms/step - loss: 3.5435 - accuracy: 0.1686 - val_loss: 3.5203 - val_accuracy: 0.1762\n",
            "Epoch 70/100\n",
            "313/313 [==============================] - 28s 90ms/step - loss: 3.5324 - accuracy: 0.1691 - val_loss: 3.4843 - val_accuracy: 0.1819\n",
            "Epoch 71/100\n",
            "313/313 [==============================] - 28s 91ms/step - loss: 3.5277 - accuracy: 0.1698 - val_loss: 3.5377 - val_accuracy: 0.1726\n",
            "Epoch 72/100\n",
            "313/313 [==============================] - 28s 91ms/step - loss: 3.5377 - accuracy: 0.1675 - val_loss: 3.5481 - val_accuracy: 0.1715\n",
            "Epoch 73/100\n",
            "313/313 [==============================] - 28s 91ms/step - loss: 3.5325 - accuracy: 0.1693 - val_loss: 3.5418 - val_accuracy: 0.1686\n",
            "Epoch 74/100\n",
            "313/313 [==============================] - 28s 90ms/step - loss: 3.5291 - accuracy: 0.1733 - val_loss: 3.4634 - val_accuracy: 0.1870\n",
            "Epoch 75/100\n",
            "313/313 [==============================] - 28s 91ms/step - loss: 3.5246 - accuracy: 0.1705 - val_loss: 3.4740 - val_accuracy: 0.1861\n",
            "Epoch 76/100\n",
            "313/313 [==============================] - 28s 91ms/step - loss: 3.5337 - accuracy: 0.1702 - val_loss: 3.4801 - val_accuracy: 0.1793\n",
            "Epoch 77/100\n",
            "313/313 [==============================] - 28s 90ms/step - loss: 3.5322 - accuracy: 0.1704 - val_loss: 3.5684 - val_accuracy: 0.1643\n",
            "Epoch 78/100\n",
            "313/313 [==============================] - 28s 89ms/step - loss: 3.5251 - accuracy: 0.1730 - val_loss: 3.5364 - val_accuracy: 0.1737\n",
            "Epoch 79/100\n",
            "313/313 [==============================] - 29s 91ms/step - loss: 3.5402 - accuracy: 0.1695 - val_loss: 3.5110 - val_accuracy: 0.1831\n",
            "Epoch 80/100\n",
            "313/313 [==============================] - 29s 91ms/step - loss: 3.5225 - accuracy: 0.1718 - val_loss: 3.5191 - val_accuracy: 0.1754\n",
            "Epoch 81/100\n",
            "313/313 [==============================] - 28s 91ms/step - loss: 3.5363 - accuracy: 0.1723 - val_loss: 3.5452 - val_accuracy: 0.1723\n",
            "Epoch 82/100\n",
            "313/313 [==============================] - 28s 91ms/step - loss: 3.5356 - accuracy: 0.1664 - val_loss: 3.4747 - val_accuracy: 0.1818\n",
            "Epoch 83/100\n",
            "313/313 [==============================] - 28s 91ms/step - loss: 3.5214 - accuracy: 0.1718 - val_loss: 3.5238 - val_accuracy: 0.1760\n",
            "Epoch 84/100\n",
            "313/313 [==============================] - 28s 90ms/step - loss: 3.5292 - accuracy: 0.1678 - val_loss: 3.5235 - val_accuracy: 0.1752\n",
            "Epoch 85/100\n",
            "313/313 [==============================] - 28s 90ms/step - loss: 3.5336 - accuracy: 0.1702 - val_loss: 3.6258 - val_accuracy: 0.1523\n",
            "Epoch 86/100\n",
            "313/313 [==============================] - 28s 90ms/step - loss: 3.5525 - accuracy: 0.1684 - val_loss: 3.6274 - val_accuracy: 0.1551\n",
            "Epoch 87/100\n",
            "313/313 [==============================] - 28s 90ms/step - loss: 3.5332 - accuracy: 0.1691 - val_loss: 3.6039 - val_accuracy: 0.1641\n",
            "Epoch 88/100\n",
            "313/313 [==============================] - 28s 89ms/step - loss: 3.5249 - accuracy: 0.1665 - val_loss: 3.5706 - val_accuracy: 0.1682\n",
            "Epoch 89/100\n",
            "313/313 [==============================] - 28s 89ms/step - loss: 3.5288 - accuracy: 0.1713 - val_loss: 3.5734 - val_accuracy: 0.1707\n",
            "Epoch 90/100\n",
            "313/313 [==============================] - 28s 90ms/step - loss: 3.5282 - accuracy: 0.1713 - val_loss: 3.4406 - val_accuracy: 0.1861\n",
            "Epoch 91/100\n",
            "313/313 [==============================] - 28s 91ms/step - loss: 3.5412 - accuracy: 0.1694 - val_loss: 3.5561 - val_accuracy: 0.1751\n",
            "Epoch 92/100\n",
            "313/313 [==============================] - 29s 92ms/step - loss: 3.5276 - accuracy: 0.1693 - val_loss: 3.4802 - val_accuracy: 0.1867\n",
            "Epoch 93/100\n",
            "313/313 [==============================] - 28s 91ms/step - loss: 3.5443 - accuracy: 0.1673 - val_loss: 3.5575 - val_accuracy: 0.1664\n",
            "Epoch 94/100\n",
            "313/313 [==============================] - 28s 89ms/step - loss: 3.5375 - accuracy: 0.1701 - val_loss: 3.5388 - val_accuracy: 0.1749\n",
            "Epoch 95/100\n",
            "313/313 [==============================] - 28s 89ms/step - loss: 3.5279 - accuracy: 0.1692 - val_loss: 3.4973 - val_accuracy: 0.1836\n",
            "Epoch 96/100\n",
            "313/313 [==============================] - 28s 89ms/step - loss: 3.5203 - accuracy: 0.1723 - val_loss: 3.6398 - val_accuracy: 0.1578\n",
            "Epoch 97/100\n",
            "313/313 [==============================] - 28s 89ms/step - loss: 3.5435 - accuracy: 0.1688 - val_loss: 3.5069 - val_accuracy: 0.1819\n",
            "Epoch 98/100\n",
            "313/313 [==============================] - 28s 90ms/step - loss: 3.5313 - accuracy: 0.1726 - val_loss: 3.5031 - val_accuracy: 0.1859\n",
            "Epoch 99/100\n",
            "313/313 [==============================] - 28s 90ms/step - loss: 3.5362 - accuracy: 0.1694 - val_loss: 3.4962 - val_accuracy: 0.1825\n",
            "Epoch 100/100\n",
            "313/313 [==============================] - 28s 89ms/step - loss: 3.5330 - accuracy: 0.1712 - val_loss: 3.4854 - val_accuracy: 0.1844\n"
          ]
        }
      ]
    },
    {
      "cell_type": "code",
      "source": [
        "score = model.evaluate(x_test,y_test,verbose=0)\n",
        "print('Sai số kiểm tra là: ',score[0])\n",
        "print('Độ chính xác kiểm tra là: ',score[1])\n",
        "#vẽ đồ thị\n",
        "plt.plot(history.history['accuracy'])\n",
        "plt.plot(history.history['val_accuracy'])\n",
        "plt.title('model accuracy')\n",
        "plt.ylabel('accuracy')\n",
        "plt.xlabel('epochs')\n",
        "plt.legend(['train','Validation'])\n",
        "plt.show()"
      ],
      "metadata": {
        "colab": {
          "base_uri": "https://localhost:8080/",
          "height": 330
        },
        "id": "3FAxiHW7Nmqr",
        "outputId": "64c2217f-2bd6-4e98-8864-e0350ae1fd09"
      },
      "execution_count": null,
      "outputs": [
        {
          "output_type": "stream",
          "name": "stdout",
          "text": [
            "Sai số kiểm tra là:  3.482299566268921\n",
            "Độ chính xác kiểm tra là:  0.18559999763965607\n"
          ]
        },
        {
          "output_type": "display_data",
          "data": {
            "text/plain": [
              "<Figure size 432x288 with 1 Axes>"
            ],
            "image/png": "[encoded data removed]"
          },
          "metadata": {
            "needs_background": "light"
          }
        }
      ]
    }
  ]
}