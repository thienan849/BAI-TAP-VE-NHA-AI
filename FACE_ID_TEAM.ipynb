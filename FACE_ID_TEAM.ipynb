{
  "cells": [
    {
      "cell_type": "code",
      "execution_count": 20,
      "metadata": {
        "id": "dv6Oq1CjQ4B6"
      },
      "outputs": [],
      "source": [
        "import numpy as np #tinh toan\n",
        "import pandas as pd #xu li bang\n",
        "import seaborn as sns #do thi du lieu\n",
        "import matplotlib.pyplot as plt # ve\n",
        "from sklearn.preprocessing import StandardScaler # xu li xu lieu cho dong deu\n",
        "from sklearn.model_selection import train_test_split # chia du lieu\n",
        "from keras.layers import Dense,Activation,Dropout,BatchNormalization,LSTM # nhom chuan\n",
        "from keras.models import Sequential #\n",
        "from tensorflow.keras.utils import to_categorical #### chỉ cho 1 giá trị (1) hiện lên\n",
        "from keras import callbacks #\n",
        "from sklearn.metrics import precision_score, recall_score, confusion_matrix, classification_report, accuracy_score,f1_score # đo lường\n",
        "from tensorflow.keras.optimizers import RMSprop\n",
        "from keras.callbacks import EarlyStopping\n",
        "from sklearn.preprocessing import scale\n",
        "from keras.utils import np_utils\n",
        "from keras.datasets import mnist\n",
        "from keras.models import Sequential\n",
        "from keras.layers import Dense, Dropout\n",
        "from tensorflow.keras.optimizers import RMSprop\n",
        "import numpy as np\n",
        "from tensorflow.keras.optimizers import SGD,Adam\n",
        "from keras.models import Sequential\n",
        "from keras.layers import Dense\n",
        "from keras.layers import Dropout\n",
        "from keras.layers import Flatten\n",
        "from keras.layers.convolutional import Conv2D\n",
        "from keras.layers.convolutional import MaxPooling2D\n",
        "from tensorflow.keras.models import load_model\n",
        "from tensorflow.keras.utils import load_img, img_to_array\n",
        "from keras.preprocessing.image import ImageDataGenerator\n",
        "from skimage import io\n",
        "import os"
      ]
    },
    {
      "cell_type": "code",
      "execution_count": null,
      "metadata": {
        "id": "ggaTPKRNlKwx"
      },
      "outputs": [],
      "source": [
        "url='/content/drive/MyDrive/Colab Notebooks/FACE_ID_TEAM'"
      ]
    },
    {
      "cell_type": "code",
      "execution_count": null,
      "metadata": {
        "colab": {
          "base_uri": "https://localhost:8080/"
        },
        "id": "eDNdFCTCleso",
        "outputId": "614340af-6e7d-4284-eb91-e97ebadf16c0"
      },
      "outputs": [
        {
          "name": "stdout",
          "output_type": "stream",
          "text": [
            "Found 171 images belonging to 4 classes.\n",
            "Found 19 images belonging to 4 classes.\n"
          ]
        }
      ],
      "source": [
        "generator= ImageDataGenerator(rescale=1./255,validation_split=0.1)\n",
        "train_data=generator.flow_from_directory(url,target_size=(150,150),batch_size=10,class_mode='categorical',subset='training')\n",
        "validation_dataset=generator.flow_from_directory(url,target_size=(150,150),batch_size=10,class_mode='categorical',subset='validation')"
      ]
    },
    {
      "cell_type": "code",
      "execution_count": null,
      "metadata": {
        "colab": {
          "base_uri": "https://localhost:8080/"
        },
        "id": "v60dubiFljjo",
        "outputId": "9f8f34be-17ff-4d7e-cba9-1b7ba58f0d98"
      },
      "outputs": [
        {
          "data": {
            "text/plain": [
              "{'DUC_ANH': 0, 'HAU': 1, 'STRANGER': 2, 'THIEN_AN': 3}"
            ]
          },
          "execution_count": 5,
          "metadata": {},
          "output_type": "execute_result"
        }
      ],
      "source": [
        "validation_dataset.class_indices"
      ]
    },
    {
      "cell_type": "code",
      "execution_count": null,
      "metadata": {
        "colab": {
          "base_uri": "https://localhost:8080/"
        },
        "id": "AuFug_xLlnEV",
        "outputId": "4a5d54af-24f5-44e0-e9e4-84de47d0843a"
      },
      "outputs": [
        {
          "name": "stdout",
          "output_type": "stream",
          "text": [
            "Model: \"sequential_1\"\n",
            "_________________________________________________________________\n",
            " Layer (type)                Output Shape              Param #   \n",
            "=================================================================\n",
            " flatten_1 (Flatten)         (None, 67500)             0         \n",
            "                                                                 \n",
            " dense_3 (Dense)             (None, 512)               34560512  \n",
            "                                                                 \n",
            " dense_4 (Dense)             (None, 784)               402192    \n",
            "                                                                 \n",
            " dense_5 (Dense)             (None, 4)                 3140      \n",
            "                                                                 \n",
            "=================================================================\n",
            "Total params: 34,965,844\n",
            "Trainable params: 34,965,844\n",
            "Non-trainable params: 0\n",
            "_________________________________________________________________\n"
          ]
        }
      ],
      "source": [
        "model=Sequential()\n",
        "model.add(Flatten(input_shape=(150,150,3)))\n",
        "model.add(Dense(512,activation='relu'))\n",
        "model.add(Dense(784,activation='relu'))\n",
        "model.add(Dense(4,activation='softmax'))\n",
        "model.summary()"
      ]
    },
    {
      "cell_type": "code",
      "execution_count": null,
      "metadata": {
        "colab": {
          "background_save": true,
          "base_uri": "https://localhost:8080/"
        },
        "id": "SS_tYCaNlq7k",
        "outputId": "e6657d2b-b649-43bd-ca1b-9d94c5f65589"
      },
      "outputs": [
        {
          "name": "stderr",
          "output_type": "stream",
          "text": [
            "/usr/local/lib/python3.7/dist-packages/keras/optimizer_v2/adam.py:105: UserWarning: The `lr` argument is deprecated, use `learning_rate` instead.\n",
            "  super(Adam, self).__init__(name, **kwargs)\n"
          ]
        },
        {
          "name": "stdout",
          "output_type": "stream",
          "text": [
            "Epoch 1/10\n",
            "18/18 [==============================] - 75s 4s/step - loss: 67.1711 - accuracy: 0.4971 - val_loss: 5.3915 - val_accuracy: 0.8947\n",
            "Epoch 2/10\n",
            "18/18 [==============================] - 12s 643ms/step - loss: 8.4570 - accuracy: 0.7661 - val_loss: 26.3245 - val_accuracy: 0.4737\n",
            "Epoch 3/10\n",
            "18/18 [==============================] - 11s 622ms/step - loss: 3.4226 - accuracy: 0.8421 - val_loss: 0.5159 - val_accuracy: 0.9474\n",
            "Epoch 4/10\n",
            "18/18 [==============================] - 11s 639ms/step - loss: 2.4457 - accuracy: 0.8655 - val_loss: 1.1818 - val_accuracy: 0.8421\n",
            "Epoch 5/10\n",
            "18/18 [==============================] - 11s 628ms/step - loss: 1.5267 - accuracy: 0.8772 - val_loss: 0.0898 - val_accuracy: 0.9474\n",
            "Epoch 6/10\n",
            "18/18 [==============================] - 11s 623ms/step - loss: 1.2473 - accuracy: 0.9064 - val_loss: 2.2307 - val_accuracy: 0.8947\n",
            "Epoch 7/10\n",
            "18/18 [==============================] - 12s 637ms/step - loss: 0.3240 - accuracy: 0.9532 - val_loss: 1.9192 - val_accuracy: 0.8947\n",
            "Epoch 8/10\n",
            "18/18 [==============================] - 12s 651ms/step - loss: 0.6725 - accuracy: 0.9591 - val_loss: 0.1024 - val_accuracy: 0.9474\n",
            "Epoch 9/10\n",
            "18/18 [==============================] - 11s 624ms/step - loss: 0.0332 - accuracy: 0.9942 - val_loss: 0.0064 - val_accuracy: 1.0000\n",
            "Epoch 10/10\n",
            "18/18 [==============================] - 11s 634ms/step - loss: 0.0022 - accuracy: 1.0000 - val_loss: 0.0034 - val_accuracy: 1.0000\n",
            "Sai số kiểm tra là: 0.003432817291468382\n",
            "Độ chính xác kiểm tra là: 1.0\n"
          ]
        }
      ],
      "source": [
        "opt=Adam(lr=0.002)\n",
        "model.compile (optimizer=opt,loss='categorical_crossentropy', metrics=['accuracy'])\n",
        "history=model.fit(train_data,epochs=10,batch_size=128,validation_data=validation_dataset,verbose=1)\n",
        "score=model.evaluate(validation_dataset,verbose=0)\n",
        "print('Sai số kiểm tra là:',score[0])\n",
        "print('Độ chính xác kiểm tra là:',score[1])"
      ]
    },
    {
      "cell_type": "code",
      "source": [
        "model.save('/content/drive/MyDrive/Colab Notebooks/MOHINH_H5/FACE_ID_TEAM.h5')"
      ],
      "metadata": {
        "id": "jqQa3eOYqfBB"
      },
      "execution_count": 15,
      "outputs": []
    },
    {
      "cell_type": "code",
      "source": [
        "model=load_model('/content/drive/MyDrive/Colab Notebooks/MOHINH_H5/FACE_ID_TEAM.h5')"
      ],
      "metadata": {
        "id": "JC2x7l0wq1X-"
      },
      "execution_count": 17,
      "outputs": []
    },
    {
      "cell_type": "code",
      "source": [
        "img=load_img('ANH.jpg',target_size=(150,150))\n",
        "img=img_to_array(img)\n",
        "img=img.reshape(1,150,150,3)\n",
        "img=img.astype('float32')\n",
        "img=img/255\n",
        "np.argmax(model.predict(img),axis=1)"
      ],
      "metadata": {
        "colab": {
          "base_uri": "https://localhost:8080/",
          "height": 0
        },
        "id": "IaKZH-jerVne",
        "outputId": "ca2c8cfd-435c-411b-b6a1-980705d79e82"
      },
      "execution_count": 22,
      "outputs": [
        {
          "output_type": "execute_result",
          "data": {
            "text/plain": [
              "array([0])"
            ]
          },
          "metadata": {},
          "execution_count": 22
        }
      ]
    },
    {
      "cell_type": "code",
      "source": [
        "img=load_img('LA.jpg',target_size=(150,150))\n",
        "img=img_to_array(img)\n",
        "img=img.reshape(1,150,150,3)\n",
        "img=img.astype('float32')\n",
        "img=img/255\n",
        "np.argmax(model.predict(img),axis=1)"
      ],
      "metadata": {
        "colab": {
          "base_uri": "https://localhost:8080/",
          "height": 0
        },
        "id": "T_mNeGEfsdYl",
        "outputId": "f85d1859-b33c-4283-efc5-cc9dc7c0a272"
      },
      "execution_count": 23,
      "outputs": [
        {
          "output_type": "execute_result",
          "data": {
            "text/plain": [
              "array([2])"
            ]
          },
          "metadata": {},
          "execution_count": 23
        }
      ]
    }
  ],
  "metadata": {
    "colab": {
      "name": "FACE_ID_TEAM.ipynb",
      "provenance": [],
      "collapsed_sections": []
    },
    "kernelspec": {
      "display_name": "Python 3",
      "name": "python3"
    },
    "language_info": {
      "name": "python"
    }
  },
  "nbformat": 4,
  "nbformat_minor": 0
}